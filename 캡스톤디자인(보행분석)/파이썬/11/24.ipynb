{
 "cells": [
  {
   "cell_type": "code",
   "execution_count": 3,
   "metadata": {},
   "outputs": [
    {
     "name": "stdout",
     "output_type": "stream",
     "text": [
      "Collecting bleakNote: you may need to restart the kernel to use updated packages.\n"
     ]
    },
    {
     "name": "stderr",
     "output_type": "stream",
     "text": [
      "\n",
      "[notice] A new release of pip available: 22.2.2 -> 22.3.1\n",
      "[notice] To update, run: python.exe -m pip install --upgrade pip\n"
     ]
    },
    {
     "name": "stdout",
     "output_type": "stream",
     "text": [
      "\n",
      "  Downloading bleak-0.19.5-py3-none-any.whl (132 kB)\n",
      "     ------------------------------------ 132.9/132.9 kB 436.4 kB/s eta 0:00:00\n",
      "Collecting bleak-winrt<2.0.0,>=1.2.0\n",
      "  Downloading bleak_winrt-1.2.0-cp310-cp310-win_amd64.whl (525 kB)\n",
      "     ------------------------------------ 525.3/525.3 kB 499.0 kB/s eta 0:00:00\n",
      "Collecting async-timeout<5,>=3.0.0\n",
      "  Downloading async_timeout-4.0.2-py3-none-any.whl (5.8 kB)\n",
      "Installing collected packages: bleak-winrt, async-timeout, bleak\n",
      "Successfully installed async-timeout-4.0.2 bleak-0.19.5 bleak-winrt-1.2.0\n"
     ]
    }
   ],
   "source": [
    "pip install bleak"
   ]
  },
  {
   "cell_type": "code",
   "execution_count": 3,
   "metadata": {},
   "outputs": [],
   "source": [
    "import asyncio\n",
    "from bleak import BleakScanner\n",
    "\n",
    "async def main():\n",
    "    devices = await BleakScanner.discover()\n",
    "    for d in devices:\n",
    "        print(d)\n"
   ]
  },
  {
   "cell_type": "code",
   "execution_count": 5,
   "metadata": {},
   "outputs": [
    {
     "name": "stdout",
     "output_type": "stream",
     "text": [
      "FD:E2:D3:A6:9A:BC: None\n",
      "05:6B:02:D5:EB:93: None\n",
      "4D:16:B0:B8:0B:38: None\n",
      "35:BF:F4:95:27:5A: None\n",
      "E1:71:66:A0:9F:56: None\n",
      "F5:8D:7A:67:89:11: None\n",
      "D3:B1:51:0C:C9:BD: None\n",
      "D7:88:7F:35:FF:23: None\n",
      "7B:66:F3:86:47:15: None\n",
      "65:E7:B2:AD:D9:29: None\n",
      "37:89:9F:B3:1A:42: None\n",
      "42:BC:68:3C:82:F3: None\n",
      "48:48:13:77:AF:AD: None\n",
      "7A:2B:9B:4C:E4:AE: None\n",
      "80:8A:BD:E8:F5:91: 32\" Smart Monitor M7\n"
     ]
    }
   ],
   "source": [
    "# asyncio.run(main())\n",
    "await main()"
   ]
  },
  {
   "cell_type": "code",
   "execution_count": 7,
   "metadata": {},
   "outputs": [
    {
     "ename": "BleakError",
     "evalue": "Characteristic 3DE2545D-9DE6-47CE-84A9-68C5EAD85C67 was not found!",
     "output_type": "error",
     "traceback": [
      "\u001b[1;31m---------------------------------------------------------------------------\u001b[0m",
      "\u001b[1;31mBleakError\u001b[0m                                Traceback (most recent call last)",
      "\u001b[1;32mc:\\Users\\Human\\Desktop\\한지훈\\캡스톤디자인(보행분석)\\파이썬\\11\\24.ipynb 셀 4\u001b[0m in \u001b[0;36m<cell line: 12>\u001b[1;34m()\u001b[0m\n\u001b[0;32m      <a href='vscode-notebook-cell:/c%3A/Users/Human/Desktop/%ED%95%9C%EC%A7%80%ED%9B%88/%EC%BA%A1%EC%8A%A4%ED%86%A4%EB%94%94%EC%9E%90%EC%9D%B8%28%EB%B3%B4%ED%96%89%EB%B6%84%EC%84%9D%29/%ED%8C%8C%EC%9D%B4%EC%8D%AC/11/24.ipynb#W3sZmlsZQ%3D%3D?line=8'>9</a>\u001b[0m         model_number \u001b[39m=\u001b[39m \u001b[39mawait\u001b[39;00m client\u001b[39m.\u001b[39mread_gatt_char(MODEL_NBR_UUID)\n\u001b[0;32m     <a href='vscode-notebook-cell:/c%3A/Users/Human/Desktop/%ED%95%9C%EC%A7%80%ED%9B%88/%EC%BA%A1%EC%8A%A4%ED%86%A4%EB%94%94%EC%9E%90%EC%9D%B8%28%EB%B3%B4%ED%96%89%EB%B6%84%EC%84%9D%29/%ED%8C%8C%EC%9D%B4%EC%8D%AC/11/24.ipynb#W3sZmlsZQ%3D%3D?line=9'>10</a>\u001b[0m         \u001b[39mprint\u001b[39m(\u001b[39m\"\u001b[39m\u001b[39mModel Number: \u001b[39m\u001b[39m{0}\u001b[39;00m\u001b[39m\"\u001b[39m\u001b[39m.\u001b[39mformat(\u001b[39m\"\u001b[39m\u001b[39m\"\u001b[39m\u001b[39m.\u001b[39mjoin(\u001b[39mmap\u001b[39m(\u001b[39mchr\u001b[39m, model_number))))\n\u001b[1;32m---> <a href='vscode-notebook-cell:/c%3A/Users/Human/Desktop/%ED%95%9C%EC%A7%80%ED%9B%88/%EC%BA%A1%EC%8A%A4%ED%86%A4%EB%94%94%EC%9E%90%EC%9D%B8%28%EB%B3%B4%ED%96%89%EB%B6%84%EC%84%9D%29/%ED%8C%8C%EC%9D%B4%EC%8D%AC/11/24.ipynb#W3sZmlsZQ%3D%3D?line=11'>12</a>\u001b[0m \u001b[39mawait\u001b[39;00m main(address)\n",
      "\u001b[1;32mc:\\Users\\Human\\Desktop\\한지훈\\캡스톤디자인(보행분석)\\파이썬\\11\\24.ipynb 셀 4\u001b[0m in \u001b[0;36mmain\u001b[1;34m(address)\u001b[0m\n\u001b[0;32m      <a href='vscode-notebook-cell:/c%3A/Users/Human/Desktop/%ED%95%9C%EC%A7%80%ED%9B%88/%EC%BA%A1%EC%8A%A4%ED%86%A4%EB%94%94%EC%9E%90%EC%9D%B8%28%EB%B3%B4%ED%96%89%EB%B6%84%EC%84%9D%29/%ED%8C%8C%EC%9D%B4%EC%8D%AC/11/24.ipynb#W3sZmlsZQ%3D%3D?line=6'>7</a>\u001b[0m \u001b[39masync\u001b[39;00m \u001b[39mdef\u001b[39;00m \u001b[39mmain\u001b[39m(address):\n\u001b[0;32m      <a href='vscode-notebook-cell:/c%3A/Users/Human/Desktop/%ED%95%9C%EC%A7%80%ED%9B%88/%EC%BA%A1%EC%8A%A4%ED%86%A4%EB%94%94%EC%9E%90%EC%9D%B8%28%EB%B3%B4%ED%96%89%EB%B6%84%EC%84%9D%29/%ED%8C%8C%EC%9D%B4%EC%8D%AC/11/24.ipynb#W3sZmlsZQ%3D%3D?line=7'>8</a>\u001b[0m     \u001b[39masync\u001b[39;00m \u001b[39mwith\u001b[39;00m BleakClient(address) \u001b[39mas\u001b[39;00m client:\n\u001b[1;32m----> <a href='vscode-notebook-cell:/c%3A/Users/Human/Desktop/%ED%95%9C%EC%A7%80%ED%9B%88/%EC%BA%A1%EC%8A%A4%ED%86%A4%EB%94%94%EC%9E%90%EC%9D%B8%28%EB%B3%B4%ED%96%89%EB%B6%84%EC%84%9D%29/%ED%8C%8C%EC%9D%B4%EC%8D%AC/11/24.ipynb#W3sZmlsZQ%3D%3D?line=8'>9</a>\u001b[0m         model_number \u001b[39m=\u001b[39m \u001b[39mawait\u001b[39;00m client\u001b[39m.\u001b[39mread_gatt_char(MODEL_NBR_UUID)\n\u001b[0;32m     <a href='vscode-notebook-cell:/c%3A/Users/Human/Desktop/%ED%95%9C%EC%A7%80%ED%9B%88/%EC%BA%A1%EC%8A%A4%ED%86%A4%EB%94%94%EC%9E%90%EC%9D%B8%28%EB%B3%B4%ED%96%89%EB%B6%84%EC%84%9D%29/%ED%8C%8C%EC%9D%B4%EC%8D%AC/11/24.ipynb#W3sZmlsZQ%3D%3D?line=9'>10</a>\u001b[0m         \u001b[39mprint\u001b[39m(\u001b[39m\"\u001b[39m\u001b[39mModel Number: \u001b[39m\u001b[39m{0}\u001b[39;00m\u001b[39m\"\u001b[39m\u001b[39m.\u001b[39mformat(\u001b[39m\"\u001b[39m\u001b[39m\"\u001b[39m\u001b[39m.\u001b[39mjoin(\u001b[39mmap\u001b[39m(\u001b[39mchr\u001b[39m, model_number))))\n",
      "File \u001b[1;32mc:\\Users\\Human\\AppData\\Local\\Programs\\Python\\Python310\\lib\\site-packages\\bleak\\__init__.py:571\u001b[0m, in \u001b[0;36mBleakClient.read_gatt_char\u001b[1;34m(self, char_specifier, **kwargs)\u001b[0m\n\u001b[0;32m    553\u001b[0m \u001b[39masync\u001b[39;00m \u001b[39mdef\u001b[39;00m \u001b[39mread_gatt_char\u001b[39m(\n\u001b[0;32m    554\u001b[0m     \u001b[39mself\u001b[39m,\n\u001b[0;32m    555\u001b[0m     char_specifier: Union[BleakGATTCharacteristic, \u001b[39mint\u001b[39m, \u001b[39mstr\u001b[39m, uuid\u001b[39m.\u001b[39mUUID],\n\u001b[0;32m    556\u001b[0m     \u001b[39m*\u001b[39m\u001b[39m*\u001b[39mkwargs,\n\u001b[0;32m    557\u001b[0m ) \u001b[39m-\u001b[39m\u001b[39m>\u001b[39m \u001b[39mbytearray\u001b[39m:\n\u001b[0;32m    558\u001b[0m     \u001b[39m\"\"\"\u001b[39;00m\n\u001b[0;32m    559\u001b[0m \u001b[39m    Perform read operation on the specified GATT characteristic.\u001b[39;00m\n\u001b[0;32m    560\u001b[0m \n\u001b[1;32m   (...)\u001b[0m\n\u001b[0;32m    569\u001b[0m \n\u001b[0;32m    570\u001b[0m \u001b[39m    \"\"\"\u001b[39;00m\n\u001b[1;32m--> 571\u001b[0m     \u001b[39mreturn\u001b[39;00m \u001b[39mawait\u001b[39;00m \u001b[39mself\u001b[39m\u001b[39m.\u001b[39m_backend\u001b[39m.\u001b[39mread_gatt_char(char_specifier, \u001b[39m*\u001b[39m\u001b[39m*\u001b[39mkwargs)\n",
      "File \u001b[1;32mc:\\Users\\Human\\AppData\\Local\\Programs\\Python\\Python310\\lib\\site-packages\\bleak\\backends\\winrt\\client.py:720\u001b[0m, in \u001b[0;36mBleakClientWinRT.read_gatt_char\u001b[1;34m(self, char_specifier, **kwargs)\u001b[0m\n\u001b[0;32m    718\u001b[0m     characteristic \u001b[39m=\u001b[39m char_specifier\n\u001b[0;32m    719\u001b[0m \u001b[39mif\u001b[39;00m \u001b[39mnot\u001b[39;00m characteristic:\n\u001b[1;32m--> 720\u001b[0m     \u001b[39mraise\u001b[39;00m BleakError(\u001b[39mf\u001b[39m\u001b[39m\"\u001b[39m\u001b[39mCharacteristic \u001b[39m\u001b[39m{\u001b[39;00mchar_specifier\u001b[39m}\u001b[39;00m\u001b[39m was not found!\u001b[39m\u001b[39m\"\u001b[39m)\n\u001b[0;32m    722\u001b[0m value \u001b[39m=\u001b[39m \u001b[39mbytearray\u001b[39m(\n\u001b[0;32m    723\u001b[0m     _ensure_success(\n\u001b[0;32m    724\u001b[0m         \u001b[39mawait\u001b[39;00m characteristic\u001b[39m.\u001b[39mobj\u001b[39m.\u001b[39mread_value_async(\n\u001b[1;32m   (...)\u001b[0m\n\u001b[0;32m    731\u001b[0m     )\n\u001b[0;32m    732\u001b[0m )\n\u001b[0;32m    734\u001b[0m logger\u001b[39m.\u001b[39mdebug(\u001b[39m\"\u001b[39m\u001b[39mRead Characteristic \u001b[39m\u001b[39m%04X\u001b[39;00m\u001b[39m : \u001b[39m\u001b[39m%s\u001b[39;00m\u001b[39m\"\u001b[39m, characteristic\u001b[39m.\u001b[39mhandle, value)\n",
      "\u001b[1;31mBleakError\u001b[0m: Characteristic 3DE2545D-9DE6-47CE-84A9-68C5EAD85C67 was not found!"
     ]
    }
   ],
   "source": [
    "import asyncio\n",
    "from bleak import BleakClient\n",
    "\n",
    "address = \"65:e7:b2:ad:d9:29\"\n",
    "MODEL_NBR_UUID = \"3DE2545D-9DE6-47CE-84A9-68C5EAD85C67\"\n",
    "\n",
    "async def main(address):\n",
    "    async with BleakClient(address) as client:\n",
    "        model_number = await client.read_gatt_char(MODEL_NBR_UUID)\n",
    "        print(\"Model Number: {0}\".format(\"\".join(map(chr, model_number))))\n",
    "\n",
    "await main(address)"
   ]
  },
  {
   "cell_type": "code",
   "execution_count": null,
   "metadata": {},
   "outputs": [],
   "source": []
  }
 ],
 "metadata": {
  "kernelspec": {
   "display_name": "Python 3.10.6 64-bit",
   "language": "python",
   "name": "python3"
  },
  "language_info": {
   "codemirror_mode": {
    "name": "ipython",
    "version": 3
   },
   "file_extension": ".py",
   "mimetype": "text/x-python",
   "name": "python",
   "nbconvert_exporter": "python",
   "pygments_lexer": "ipython3",
   "version": "3.10.6"
  },
  "orig_nbformat": 4,
  "vscode": {
   "interpreter": {
    "hash": "957bab0e34ed500c9ea81b81f17db5c1e7e948459b55ded164aef72db4f554ca"
   }
  }
 },
 "nbformat": 4,
 "nbformat_minor": 2
}
