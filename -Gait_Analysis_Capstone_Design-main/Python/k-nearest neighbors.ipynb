{
 "cells": [
  {
   "cell_type": "markdown",
   "metadata": {},
   "source": [
    "##### Firebase "
   ]
  },
  {
   "cell_type": "code",
   "execution_count": 1,
   "metadata": {},
   "outputs": [],
   "source": [
    "import firebase_admin\n",
    "from firebase_admin import credentials\n",
    "\n",
    "from firebase_admin import firestore\n",
    "\n",
    "from firebase_admin import db\n",
    "\n",
    "if not firebase_admin._apps:\n",
    "    cred = credentials.Certificate(\"gait-analysis-7350b-firebase-adminsdk-czbst-e78dd10970.json\")\n",
    "    firebase_admin.initialize_app(cred,{'databaseURL':'https://gait-analysis-7350b-default-rtdb.asia-southeast1.firebasedatabase.app/230128_jihun'})"
   ]
  },
  {
   "cell_type": "code",
   "execution_count": 246,
   "metadata": {},
   "outputs": [],
   "source": [
    "import pandas as pd\n",
    "import numpy as np\n",
    "def getDataName(person_name):\n",
    "    dir = db.reference(person_name)\n",
    "    data = np.array(dir.get())\n",
    "    \n",
    "    return data\n",
    "\n",
    "def getPeakToPeak(person_name):\n",
    "    list = []\n",
    "    \n",
    "    for i in range(1, 6):\n",
    "        dir = db.reference(person_name + \"/test\" + str(i) + \"/\" + \"Heel Strike\")\n",
    "        heelstrike = dir.get()\n",
    "        dir = db.reference(person_name + \"/test\" + str(i) + \"/\" + \"Toe Off\")\n",
    "        toeoff = dir.get()\n",
    "        \n",
    "        if len(heelstrike) <= len(toeoff):\n",
    "            for i in range(len(heelstrike)):\n",
    "                list.append(heelstrike[i] - toeoff[i])\n",
    "        \n",
    "        else:\n",
    "            for i in range(len(toeoff)):\n",
    "                list.append(heelstrike[i] - toeoff[i])\n",
    "\n",
    "    #해당 실험자의 하나의 보행 파라미터에 대한 1차원 리스트 반혼\n",
    "    return list\n",
    "\n",
    "def getStepVelocity(person_name):\n",
    "    peak_to_peak_mean = []\n",
    "    step_velocity_mean = []\n",
    "\n",
    "\n",
    "    for i in range(1, 6):\n",
    "        \n",
    "        peak_list = []\n",
    "\n",
    "        dir = db.reference(person_name + \"/test\" + str(i) + \"/\" + \"Heel Strike\")\n",
    "        heelstrike = dir.get()\n",
    "        dir = db.reference(person_name + \"/test\" + str(i) + \"/\" + \"Toe Off\")\n",
    "        toeoff = dir.get()\n",
    "        dir = db.reference(person_name + \"/test\" + str(i) + \"/\" + \"Step Velocity\")\n",
    "\n",
    "        #Step Velocity 평균\n",
    "        step_velocity_mean.append(np.mean(dir.get()))\n",
    "\n",
    "        if len(heelstrike) <= len(toeoff):\n",
    "            for i in range(len(heelstrike)):\n",
    "                peak_list.append(heelstrike[i] - toeoff[i])\n",
    "        \n",
    "        else:\n",
    "            for i in range(len(toeoff)):\n",
    "                peak_list.append(heelstrike[i] - toeoff[i])\n",
    "        \n",
    "        peak_to_peak_mean.append(np.mean(peak_list))\n",
    "        \n",
    "    #해당 실험자의 하나의 보행 파라미터에 대한 1차원 리스트 반혼\n",
    "    return [peak_to_peak_mean, step_velocity_mean]\n"
   ]
  },
  {
   "cell_type": "markdown",
   "metadata": {},
   "source": [
    "<hr>"
   ]
  },
  {
   "cell_type": "markdown",
   "metadata": {},
   "source": [
    "### Dataframe에 데이터 넣기"
   ]
  },
  {
   "cell_type": "code",
   "execution_count": 164,
   "metadata": {},
   "outputs": [],
   "source": [
    "import pandas as pd\n",
    "total_dataframe = pd.DataFrame(columns=['Peak to Peak', 'Height'])"
   ]
  },
  {
   "cell_type": "markdown",
   "metadata": {},
   "source": [
    "#### 백장현"
   ]
  },
  {
   "cell_type": "code",
   "execution_count": 239,
   "metadata": {},
   "outputs": [],
   "source": [
    "male_data = []\n",
    "height_list = []\n",
    "\n",
    "velocity_mean_list = []\n",
    "peak_mean_list = []"
   ]
  },
  {
   "cell_type": "code",
   "execution_count": 240,
   "metadata": {},
   "outputs": [],
   "source": [
    "data = getPeakToPeak(\"Baek janghyeon\")\n",
    "velocity = getStepVelocity(\"Baek janghyeon\")\n",
    "\n",
    "velocity_mean_list += velocity[1]\n",
    "peak_mean_list += velocity[0]\n",
    "height = [169 for i in range(len(data))]"
   ]
  },
  {
   "cell_type": "code",
   "execution_count": 203,
   "metadata": {},
   "outputs": [],
   "source": [
    "male_data += data\n",
    "height_list += height"
   ]
  },
  {
   "cell_type": "markdown",
   "metadata": {},
   "source": [
    "#### 백민서"
   ]
  },
  {
   "cell_type": "code",
   "execution_count": 241,
   "metadata": {},
   "outputs": [],
   "source": [
    "data =getPeakToPeak(\"Baek minseo\")\n",
    "\n",
    "velocity = getStepVelocity(\"Baek minseo\")\n",
    "\n",
    "velocity_mean_list += velocity[1]\n",
    "peak_mean_list += velocity[0]\n",
    "height = [166 for i in range(len(data))]"
   ]
  },
  {
   "cell_type": "code",
   "execution_count": 205,
   "metadata": {},
   "outputs": [],
   "source": [
    "male_data += data\n",
    "height_list += height"
   ]
  },
  {
   "cell_type": "markdown",
   "metadata": {},
   "source": [
    "#### 빅승준"
   ]
  },
  {
   "cell_type": "code",
   "execution_count": 242,
   "metadata": {},
   "outputs": [],
   "source": [
    "data =getPeakToPeak(\"Big seungjun\")\n",
    "velocity = getStepVelocity(\"Big seungjun\")\n",
    "\n",
    "velocity_mean_list += velocity[1]\n",
    "peak_mean_list += velocity[0]\n",
    "height = [175 for i in range(len(data))]"
   ]
  },
  {
   "cell_type": "code",
   "execution_count": 207,
   "metadata": {},
   "outputs": [],
   "source": [
    "male_data += data\n",
    "height_list += height"
   ]
  },
  {
   "cell_type": "markdown",
   "metadata": {},
   "source": [
    "#### 정우진"
   ]
  },
  {
   "cell_type": "code",
   "execution_count": 243,
   "metadata": {},
   "outputs": [],
   "source": [
    "data = getPeakToPeak(\"Jung woojin\")\n",
    "velocity = getStepVelocity(\"Jung woojin\")\n",
    "\n",
    "velocity_mean_list += velocity[1]\n",
    "peak_mean_list += velocity[0]\n",
    "height = [187 for i in range(len(data))]"
   ]
  },
  {
   "cell_type": "code",
   "execution_count": 209,
   "metadata": {},
   "outputs": [],
   "source": [
    "male_data += data\n",
    "height_list += height"
   ]
  },
  {
   "cell_type": "markdown",
   "metadata": {},
   "source": [
    "#### 김민서"
   ]
  },
  {
   "cell_type": "code",
   "execution_count": 245,
   "metadata": {},
   "outputs": [],
   "source": [
    "data = getPeakToPeak(\"Kim Minseo\")\n",
    "\n",
    "velocity = getStepVelocity(\"Kim Minseo\")\n",
    "\n",
    "velocity_mean_list += velocity[1]\n",
    "peak_mean_list += velocity[0]\n",
    "height = [183 for i in range(len(data))]"
   ]
  },
  {
   "cell_type": "code",
   "execution_count": 215,
   "metadata": {},
   "outputs": [],
   "source": [
    "male_data += data\n",
    "height_list += height"
   ]
  },
  {
   "cell_type": "markdown",
   "metadata": {},
   "source": [
    "#### 김승준"
   ]
  },
  {
   "cell_type": "code",
   "execution_count": 247,
   "metadata": {},
   "outputs": [],
   "source": [
    "data = getPeakToPeak(\"Kim Seungjin\")\n",
    "velocity = getStepVelocity(\"Kim Seungjin\")\n",
    "\n",
    "velocity_mean_list += velocity[1]\n",
    "peak_mean_list += velocity[0]\n",
    "height = [180 for i in range(len(data))]"
   ]
  },
  {
   "cell_type": "code",
   "execution_count": 218,
   "metadata": {},
   "outputs": [],
   "source": [
    "male_data += data\n",
    "height_list += height"
   ]
  },
  {
   "cell_type": "markdown",
   "metadata": {},
   "source": [
    "#### 김민정"
   ]
  },
  {
   "cell_type": "code",
   "execution_count": 219,
   "metadata": {},
   "outputs": [],
   "source": [
    "data = getPeakToPeak(\"Kim minjung\")\n",
    "height = [162 for i in range(len(data))]"
   ]
  },
  {
   "cell_type": "code",
   "execution_count": 220,
   "metadata": {},
   "outputs": [],
   "source": [
    "male_data += data\n",
    "height_list += height"
   ]
  },
  {
   "cell_type": "markdown",
   "metadata": {},
   "source": [
    "#### 이지융"
   ]
  },
  {
   "cell_type": "code",
   "execution_count": 248,
   "metadata": {},
   "outputs": [],
   "source": [
    "data = getPeakToPeak(\"Lee Jiyung\")\n",
    "velocity = getStepVelocity(\"Lee Jiyung\")\n",
    "\n",
    "velocity_mean_list += velocity[1]\n",
    "peak_mean_list += velocity[0]\n",
    "height = [176 for i in range(len(data))]"
   ]
  },
  {
   "cell_type": "code",
   "execution_count": 222,
   "metadata": {},
   "outputs": [],
   "source": [
    "male_data += data\n",
    "height_list += height"
   ]
  },
  {
   "cell_type": "markdown",
   "metadata": {},
   "source": [
    "#### 오민우"
   ]
  },
  {
   "cell_type": "code",
   "execution_count": 249,
   "metadata": {},
   "outputs": [],
   "source": [
    "data = getPeakToPeak(\"Oh Minwoo\")\n",
    "velocity = getStepVelocity(\"Oh Minwoo\")\n",
    "\n",
    "velocity_mean_list += velocity[1]\n",
    "peak_mean_list += velocity[0]\n",
    "height = [178 for i in range(len(data))]"
   ]
  },
  {
   "cell_type": "code",
   "execution_count": 224,
   "metadata": {},
   "outputs": [],
   "source": [
    "male_data += data\n",
    "height_list += height"
   ]
  },
  {
   "cell_type": "markdown",
   "metadata": {},
   "source": [
    "#### 박재완"
   ]
  },
  {
   "cell_type": "code",
   "execution_count": 250,
   "metadata": {},
   "outputs": [],
   "source": [
    "data = getPeakToPeak(\"Park jaewon\")\n",
    "velocity = getStepVelocity(\"Park jaewon\")\n",
    "\n",
    "velocity_mean_list += velocity[1]\n",
    "peak_mean_list += velocity[0]\n",
    "height = [180 for i in range(len(data))]"
   ]
  },
  {
   "cell_type": "code",
   "execution_count": 226,
   "metadata": {},
   "outputs": [],
   "source": [
    "male_data += data\n",
    "height_list += height"
   ]
  },
  {
   "cell_type": "code",
   "execution_count": 230,
   "metadata": {},
   "outputs": [
    {
     "data": {
      "image/png": "[encoded data removed]",
      "text/plain": [
       "<Figure size 640x480 with 1 Axes>"
      ]
     },
     "metadata": {},
     "output_type": "display_data"
    }
   ],
   "source": [
    "import matplotlib.pyplot as plt\n",
    "\n",
    "plt.scatter(height_list, male_data)\n",
    "\n",
    "plt.show()"
   ]
  },
  {
   "cell_type": "code",
   "execution_count": 251,
   "metadata": {},
   "outputs": [
    {
     "data": {
      "image/png": "[encoded data removed]",
      "text/plain": [
       "<Figure size 640x480 with 1 Axes>"
      ]
     },
     "metadata": {},
     "output_type": "display_data"
    }
   ],
   "source": [
    "import matplotlib.pyplot as plt\n",
    "\n",
    "plt.scatter(velocity_mean_list, peak_mean_list)\n",
    "\n",
    "plt.show()"
   ]
  },
  {
   "cell_type": "code",
   "execution_count": null,
   "metadata": {},
   "outputs": [],
   "source": []
  }
 ],
 "metadata": {
  "interpreter": {
   "hash": "eadcffed9d3c2393aa2c1e8af4faa14582bec2e5add70b0d0fc7cd41b2774778"
  },
  "kernelspec": {
   "display_name": "Python 3.9.12 64-bit ('base': conda)",
   "language": "python",
   "name": "python3"
  },
  "language_info": {
   "codemirror_mode": {
    "name": "ipython",
    "version": 3
   },
   "file_extension": ".py",
   "mimetype": "text/x-python",
   "name": "python",
   "nbconvert_exporter": "python",
   "pygments_lexer": "ipython3",
   "version": "3.9.12"
  },
  "orig_nbformat": 4
 },
 "nbformat": 4,
 "nbformat_minor": 2
}
